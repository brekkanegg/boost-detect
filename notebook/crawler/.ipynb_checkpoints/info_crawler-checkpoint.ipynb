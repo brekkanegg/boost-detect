{
 "cells": [
  {
   "cell_type": "code",
   "execution_count": 1,
   "metadata": {
    "collapsed": true
   },
   "outputs": [],
   "source": [
    "from bs4 import BeautifulSoup\n",
    "from selenium import webdriver\n",
    "from selenium.webdriver.common.keys import Keys\n",
    "from selenium.common.exceptions import *\n",
    "\n",
    "from urllib.request import urlopen\n",
    "from urllib import parse\n",
    "\n",
    "from html.parser import HTMLParser\n",
    "\n",
    "import multiprocessing\n",
    "from multiprocessing import Process\n",
    "\n",
    "import os, sys\n",
    "import random\n",
    "from tqdm import *\n",
    "from time import *\n",
    "import re\n",
    "\n",
    "import pandas as pd"
   ]
  },
  {
   "cell_type": "markdown",
   "metadata": {},
   "source": [
    "<h1>Data</h1>"
   ]
  },
  {
   "cell_type": "code",
   "execution_count": 2,
   "metadata": {
    "collapsed": false
   },
   "outputs": [],
   "source": [
    "read = '/Users/minki/Development/boostdetect/data/p5_lp0_r_test.txt'\n",
    "write = '/Users/minki/Development/boostdetect/data/p5_lp0_r_test'\n",
    "\n",
    "# /Users/minki/Development/boostdetect/data\n",
    "try:\n",
    "    os.mkdir(write)\n",
    "except FileExistsError:\n",
    "    pass\n",
    "\n",
    "read = open(read, \"r\")\n",
    "summoners = read.readlines()\n",
    "\n",
    "cpu_num =multiprocessing.cpu_count()"
   ]
  },
  {
   "cell_type": "code",
   "execution_count": 3,
   "metadata": {
    "collapsed": false
   },
   "outputs": [],
   "source": []
  },
  {
   "cell_type": "code",
   "execution_count": 4,
   "metadata": {
    "collapsed": false
   },
   "outputs": [
    {
     "data": {
      "text/plain": [
       "['퍼펙트킴\\n', 'MIXABLE\\n', '낱 알\\n', '뽀뿌우\\n']"
      ]
     },
     "execution_count": 4,
     "metadata": {},
     "output_type": "execute_result"
    }
   ],
   "source": [
    "summoners[1:5]"
   ]
  },
  {
   "cell_type": "code",
   "execution_count": 249,
   "metadata": {
    "collapsed": false
   },
   "outputs": [
    {
     "name": "stdout",
     "output_type": "stream",
     "text": [
      "0\t루시안\t50\t8.7\t1.40\t패배\t2017년 5월 21일 오후 9시 23분\n",
      "1\t루시안\t100\t5.3\t0.50\t패배\t2017년 5월 21일 오후 8시 55분\n",
      "2\t케이틀린\t50\t6.3\t1.00\t패배\t2017년 5월 21일 오전 3시 28분\n",
      "3\t카사딘\t83\t5.3\t2.14\t패배\t2017년 5월 21일 오전 3시 00분\n",
      "4\t카사딘\t24\t7.6\t6.00\t승리\t2017년 5월 21일 오전 2시 22분\n",
      "5\t신드라\t39\t6.6\t1.29\t패배\t2017년 5월 21일 오전 1시 55분\n",
      "6\t신드라\t57\t7\t4.00\t승리\t2017년 5월 21일 오전 1시 10분\n",
      "7\t신드라\t56\t7.5\t6.67\t승리\t2017년 5월 21일 오전 12시 30분\n",
      "8\t케이틀린\t38\t8.7\t1.25\t패배\t2017년 5월 20일 오후 11시 56분\n",
      "9\t트리스타나\t39\t8.1\t2.43\t승리\t2017년 5월 20일 오후 11시 20분\n",
      "10\t트리스타나\t65\t7.1\t2.60\t패배\t2017년 5월 20일 오후 10시 35분\n",
      "11\t루시안\t55\t7.6\t9.00\t승리\t2017년 5월 20일 오후 9시 56분\n",
      "12\t카르마\t23\t1\t0.60\t패배\t2017년 5월 20일 오후 9시 08분\n",
      "13\t브랜드\t43\t1.5\t2.50\t패배\t2017년 5월 20일 오후 7시 45분\n",
      "14\t이즈리얼\t50\t7\t1.40\t패배\t2017년 5월 20일 오후 7시 05분\n",
      "15\t케이틀린\t63\t8.5\t6.33\t승리\t2017년 5월 20일 오후 6시 34분\n",
      "16\t케이틀린\t59\t7.6\t4.75\t승리\t2017년 5월 20일 오후 5시 53분\n",
      "17\t케이틀린\t48\t7.4\t2.33\t승리\t2017년 5월 20일 오후 5시 08분\n",
      "18\t루시안\t17\t7.2\t2.00\t패배\t2017년 5월 20일 오후 4시 24분\n",
      "19\t루시안\t43\t7.1\t6.00\t승리\t2017년 5월 20일 오후 3시 46분\n",
      "20\t이즈리얼\t59\t6.6\t6.33\t승리\t2017년 5월 20일 오후 3시 03분\n",
      "21\t브랜드\t44\t0.7\t1.40\t패배\t2017년 5월 20일 오후 2시 19분\n",
      "22\t블리츠크랭크\t66\t2.3\t5.80\t패배\t2017년 5월 20일 오전 2시 41분\n",
      "23\t바루스\t21\t8.4\t0.50\t패배\t2017년 5월 20일 오전 1시 45분\n",
      "24\t신드라\t42\t6.6\t1.33\t패배\t2017년 5월 20일 오전 1시 04분\n",
      "25\t카사딘\t46\t7\t3.67\t패배\t2017년 5월 20일 오전 12시 30분\n",
      "26\t카르마\t71\t1.5\t22.00\t승리\t2017년 5월 19일 오후 8시 11분\n",
      "27\t카사딘\t43\t8\t6.00\t승리\t2017년 5월 19일 오후 7시 32분\n",
      "28\t신드라\t26\t5.6\t0.60\t패배\t2017년 5월 19일 오후 7시 07분\n",
      "29\t루시안\t43\t7.1\t1.67\t패배\t2017년 5월 19일 오전 3시 28분\n",
      "30\t루시안\t67\t7.1\t11.00\t승리\t2017년 5월 19일 오전 2시 50분\n",
      "31\t카사딘\t60\t6.8\t2.00\t패배\t2017년 5월 19일 오전 2시 08분\n",
      "32\t카사딘\t50\t6.8\t4.33\t승리\t2017년 5월 19일 오전 1시 32분\n",
      "33\t카르마\t35\t1\t2.00\t패배\t2017년 5월 19일 오전 12시 48분\n",
      "34\t브랜드\t41\t1.4\t3.60\t승리\t2017년 5월 18일 오후 11시 57분\n",
      "35\t신드라\t31\t7.2\t2.00\t패배\t2017년 5월 18일 오후 11시 26분\n",
      "36\t신드라\t44\t7.9\t3.50\t승리\t2017년 5월 18일 오후 10시 55분\n",
      "37\t신드라\t63\t7\t4.50\t패배\t2017년 5월 18일 오후 7시 23분\n",
      "38\t브랜드\t0\t0.6\t0.00\t패배\t2017년 5월 18일 오후 6시 29분\n",
      "39\t신드라\t38\t7.7\t1.00\t패배\t2017년 5월 18일 오후 5시 58분\n",
      "40\t브랜드\t44\t1.3\t1.17\t패배\t2017년 5월 17일 오후 8시 45분\n",
      "41\t신드라\t55\t7.3\t2.70\t패배\t2017년 5월 17일 오후 7시 40분\n",
      "42\t브랜드\t67\t0.4\t8.00\t승리\t2017년 5월 17일 오후 6시 35분\n",
      "43\t신드라\t42\t6.5\t1.75\t패배\t2017년 5월 17일 오후 5시 58분\n",
      "44\t브랜드\t55\t1.5\t5.33\t승리\t2017년 5월 16일 오전 4시 11분\n",
      "45\t브랜드\t35\t3.8\t4.67\t승리\t2017년 5월 16일 오전 3시 32분\n",
      "46\t신드라\t42\t7.9\t7.00\t승리\t2017년 5월 16일 오전 2시 52분\n",
      "47\t신드라\t21\t7.7\t0.80\t패배\t2017년 5월 16일 오전 2시 15분\n",
      "48\t신드라\t47\t7.5\t4.00\t승리\t2017년 5월 16일 오전 1시 09분\n",
      "49\t신드라\t80\t7.1\t4.80\t승리\t2017년 5월 16일 오전 12시 29분\n",
      "50\t신드라\t60\t8.5\t6.00\t승리\t2017년 5월 15일 오후 11시 04분\n",
      "51\t신드라\t68\t7.8\t10.50\t승리\t2017년 5월 15일 오후 10시 26분\n",
      "52\t신드라\t74\t8.1\t4.00\t패배\t2017년 5월 15일 오후 9시 46분\n",
      "53\t아리\t38\t5.6\t1.44\t패배\t2017년 5월 15일 오후 8시 14분\n",
      "54\t나서스\t70\t5.1\t4.75\t패배\t2017년 5월 15일 오후 7시 30분\n",
      "55\t브랜드\t64\t1.3\t2.33\t패배\t2017년 5월 15일 오후 6시 45분\n",
      "56\t카르마\t63\t0.8\t2.40\t패배\t2017년 5월 15일 오후 6시 06분\n",
      "57\t다리우스\t20\t6.3\t0.33\t패배\t2017년 5월 15일 오전 2시 49분\n",
      "58\t다리우스\t40\t4.5\t0.67\t패배\t2017년 5월 15일 오전 2시 20분\n",
      "59\t마오카이\t58\t0.6\t1.75\t패배\t2017년 5월 15일 오전 1시 48분\n",
      "60\t마오카이\t36\t0.5\t6.50\t승리\t2017년 5월 15일 오전 1시 12분\n",
      "61\t카르마\t50\t1.1\t1.67\t패배\t2017년 5월 15일 오전 12시 38분\n",
      "62\t카르마\t64\t0.6\t3.50\t패배\t2017년 5월 15일 오전 12시 07분\n",
      "63\t브랜드\t62\t0.7\t4.50\t승리\t2017년 5월 14일 오후 11시 25분\n",
      "64\t다리우스\t26\t7.8\t2.20\t승리\t2017년 5월 14일 오후 10시 28분\n",
      "65\t피즈\t43\t6.2\t2.50\t패배\t2017년 5월 14일 오후 9시 52분\n",
      "66\t다리우스\t42\t6.8\t14.00\t승리\t2017년 5월 14일 오후 9시 08분\n",
      "67\t케이틀린\t35\t8.2\t4.50\t승리\t2017년 5월 14일 오후 8시 18분\n",
      "68\t다리우스\t58\t6.3\t2.14\t패배\t2017년 5월 14일 오후 7시 46분\n",
      "69\t다리우스\t30\t8.2\t8.00\t승리\t2017년 5월 14일 오후 7시 02분\n",
      "70\t이즈리얼\t40\t6.7\t1.00\t패배\t2017년 5월 14일 오후 6시 30분\n",
      "71\t루시안\t30\t7.6\t8.00\t승리\t2017년 5월 14일 오후 5시 56분\n",
      "72\t브랜드\t67\t1.6\t4.33\t승리\t2017년 5월 14일 오전 1시 49분\n",
      "73\t카르마\t71\t1.5\t4.40\t패배\t2017년 5월 14일 오전 1시 07분\n",
      "74\t루시안\t35\t6.8\t4.50\t승리\t2017년 5월 14일 오전 12시 27분\n",
      "75\t코그모\t34\t6.7\t2.20\t패배\t2017년 5월 13일 오후 11시 49분\n",
      "76\t케이틀린\t38\t6.5\t1.00\t패배\t2017년 5월 13일 오후 11시 10분\n",
      "77\t룰루\t56\t0.2\t9.00\t승리\t2017년 5월 13일 오후 10시 38분\n",
      "78\t트위치\t43\t8.3\t3.00\t승리\t2017년 5월 13일 오후 10시 09분\n",
      "79\t애쉬\t25\t8.1\t2.00\t승리\t2017년 5월 13일 오후 9시 31분\n",
      "80\t루시안\t49\t8.3\t6.00\t승리\t2017년 5월 13일 오후 8시 56분\n",
      "81\t마오카이\t50\t1.3\t4.25\t패배\t2017년 5월 13일 오후 8시 05분\n",
      "82\t카사딘\t53\t5.7\t2.25\t패배\t2017년 5월 13일 오후 7시 15분\n",
      "83\t마오카이\t41\t1\t1.88\t패배\t2017년 5월 13일 오후 6시 26분\n",
      "84\t마오카이\t70\t1.3\t2.63\t패배\t2017년 5월 13일 오후 5시 41분\n",
      "85\t룰루\t55\t0.4\t12.00\t승리\t2017년 5월 13일 오후 4시 53분\n",
      "86\t카르마\t45\t1.4\t2.00\t패배\t2017년 5월 13일 오후 4시 02분\n",
      "87\t카르마\t54\t0.6\t9.50\t승리\t2017년 5월 13일 오후 3시 07분\n",
      "88\t루시안\t42\t6.9\t1.57\t패배\t2017년 5월 13일 오후 2시 25분\n",
      "89\t마오카이\t42\t0.6\t1.14\t패배\t2017년 5월 12일 오후 7시 01분\n",
      "90\t마오카이\t51\t1.2\t4.60\t승리\t2017년 5월 12일 오후 6시 30분\n",
      "91\t마오카이\t62\t0.8\t4.80\t승리\t2017년 5월 12일 오후 5시 52분\n",
      "92\t룰루\t11\t0.5\t0.17\t패배\t2017년 5월 12일 오후 5시 13분\n",
      "93\t카르마\t25\t0.6\t6.00\t승리\t2017년 5월 12일 오후 4시 43분\n",
      "94\t룰루\t42\t0.4\t3.25\t승리\t2017년 5월 12일 오후 4시 13분\n",
      "95\t카사딘\t54\t5.7\t5.00\t패배\t2017년 5월 11일 오후 9시 33분\n",
      "96\t카사딘\t54\t4.5\t2.50\t패배\t2017년 5월 11일 오후 8시 52분\n",
      "97\t브랜드\t44\t2.3\t3.60\t승리\t2017년 5월 11일 오후 8시 09분\n",
      "98\t카르마\t39\t1.9\t1.40\t패배\t2017년 5월 11일 오후 7시 31분\n",
      "99\t잔나\t60\t1.4\t9.00\t승리\t2017년 5월 11일 오후 6시 43분\n",
      "100\t카르마\t38\t1\t0.71\t패배\t2017년 5월 11일 오후 6시 03분\n",
      "101\t카르마\t56\t0.6\t3.00\t승리\t2017년 5월 10일 오후 10시 09분\n",
      "102\t카르마\t61\t0.6\t4.75\t패배\t2017년 5월 10일 오후 9시 16분\n",
      "103\t카르마\t40\t0.7\t6.00\t승리\t2017년 5월 10일 오후 8시 42분\n",
      "104\t카르마\t78\t0.7\t6.25\t승리\t2017년 5월 10일 오후 8시 08분\n",
      "105\t카르마\t100\t1.1\t1.67\t패배\t2017년 5월 10일 오후 7시 23분\n",
      "106\t케이틀린\t39\t7.4\t1.17\t패배\t2017년 5월 10일 오후 6시 54분\n",
      "107\t잔나\t70\t0.7\t3.50\t패배\t2017년 5월 10일 오후 6시 15분\n",
      "108\t이즈리얼\t88\t7.3\t15.00\t패배\t2017년 5월 10일 오후 5시 35분\n",
      "109\t카르마\t50\t1.1\t4.00\t승리\t2017년 5월 10일 오후 4시 58분\n",
      "110\t카르마\t30\t0.9\t7.00\t승리\t2017년 5월 10일 오후 4시 23분\n",
      "111\t말자하\t64\t1.1\t1.29\t패배\t2017년 5월 9일 오후 5시 55분\n",
      "112\t말자하\t62\t0.8\t3.00\t승리\t2017년 5월 9일 오후 5시 13분\n",
      "113\t브랜드\t58\t1.8\t4.56\t승리\t2017년 5월 9일 오후 4시 34분\n",
      "114\t카사딘\t16\t5.3\t0.80\t패배\t2017년 5월 9일 오후 3시 29분\n",
      "115\t카사딘\t50\t6.5\t5.25\t승리\t2017년 5월 9일 오후 2시 44분\n",
      "116\t카사딘\t100\t0.3\t5.25\t패배\t2017년 5월 9일 오후 1시 51분\n",
      "117\t카사딘\t56\t6.1\t18.00\t승리\t2017년 5월 8일 오후 6시 03분\n",
      "118\t카사딘\t20\t5.5\t0.50\t패배\t2017년 5월 8일 오후 5시 35분\n",
      "119\t말자하\t60\t6.6\t3.60\t패배\t2017년 5월 8일 오후 4시 59분\n",
      "120\t케이틀린\t47\t7.1\t2.29\t승리\t2017년 5월 8일 오후 4시 14분\n",
      "121\t케이틀린\t35\t6.9\t1.50\t승리\t2017년 5월 8일 오후 3시 23분\n",
      "122\t카사딘\t48\t7\t6.00\t패배\t2017년 5월 8일 오후 2시 51분\n",
      "123\t카사딘\t21\t7.2\t0.80\t패배\t2017년 5월 7일 오후 8시 32분\n",
      "124\t신드라\t70\t6.7\t1.17\t패배\t2017년 5월 7일 오후 7시 49분\n",
      "125\t카사딘\t55\t5.5\t3.00\t패배\t2017년 5월 7일 오후 7시 19분\n",
      "126\t카사딘\t65\t8\t17.00\t승리\t2017년 5월 7일 오후 6시 27분\n",
      "127\t퀸\t48\t6.8\t12.00\t승리\t2017년 5월 7일 오후 5시 53분\n",
      "128\t카사딘\t57\t6.1\t2.67\t패배\t2017년 5월 6일 오후 6시 34분\n",
      "129\t누누\t54\t1.6\t3.80\t승리\t2017년 5월 6일 오후 6시 05분\n",
      "130\t카사딘\t37\t6.9\t7.00\t승리\t2017년 5월 6일 오후 5시 04분\n",
      "131\t카사딘\t50\t5.9\t2.00\t패배\t2017년 5월 6일 오후 4시 36분\n",
      "132\t카사딘\t46\t6.2\t2.40\t패배\t2017년 5월 6일 오후 3시 51분\n",
      "133\t카사딘\t39\t7.1\t7.00\t패배\t2017년 5월 6일 오후 2시 43분\n",
      "134\t쓰레쉬\t67\t1.5\t1.50\t패배\t2017년 5월 6일 오후 2시 05분\n",
      "135\t다리우스\t31\t7.6\t2.00\t승리\t2017년 5월 6일 오후 1시 24분\n",
      "136\t카사딘\t57\t5.9\t9.00\t승리\t2017년 5월 5일 오후 7시 10분\n",
      "137\t피즈\t36\t5.5\t1.33\t승리\t2017년 5월 5일 오후 6시 35분\n",
      "138\t카사딘\t44\t7.3\t6.00\t승리\t2017년 5월 5일 오후 6시 00분\n",
      "139\t소라카\t71\t0.7\t1.25\t패배\t2017년 5월 5일 오후 5시 18분\n",
      "140\t카사딘\t37\t6\t1.75\t패배\t2017년 5월 5일 오후 4시 41분\n",
      "141\t카사딘\t46\t7\t1.50\t패배\t2017년 5월 5일 오후 4시 05분\n",
      "142\t소라카\t52\t0.4\t11.00\t승리\t2017년 5월 4일 오후 9시 25분\n",
      "143\t카사딘\t57\t6.6\t4.00\t패배\t2017년 5월 4일 오후 8시 17분\n",
      "144\t카사딘\t30\t7.5\t2.33\t승리\t2017년 5월 4일 오후 7시 11분\n",
      "145\t카사딘\t47\t7.4\t16.00\t승리\t2017년 5월 4일 오후 6시 11분\n",
      "146\t이즈리얼\t50\t7.5\t7.00\t패배\t2017년 5월 4일 오후 5시 33분\n",
      "147\t카사딘\t47\t5.8\t2.67\t패배\t2017년 5월 4일 오후 4시 52분\n",
      "148\t카사딘\t38\t8.3\t6.00\t승리\t2017년 5월 3일 오후 9시 20분\n",
      "149\t카사딘\t42\t6.3\t3.50\t승리\t2017년 5월 3일 오후 7시 59분\n",
      "150\t아리\t42\t7\t2.67\t승리\t2017년 5월 3일 오후 7시 18분\n",
      "151\t카사딘\t74\t6.9\t17.00\t승리\t2017년 5월 3일 오전 1시 50분\n",
      "152\t카사딘\t57\t7.5\t4.00\t패배\t2017년 5월 3일 오전 1시 16분\n",
      "153\t카사딘\t67\t8.5\t6.00\t패배\t2017년 5월 3일 오전 12시 48분\n",
      "154\t카사딘\t27\t8.8\t4.50\t승리\t2017년 5월 3일 오전 12시 04분\n",
      "155\t이즈리얼\t37\t7.8\t3.25\t승리\t2017년 5월 2일 오후 11시 32분\n",
      "156\t카사딘\t63\t7.3\t8.00\t승리\t2017년 5월 2일 오후 10시 38분\n",
      "157\t카사딘\t37\t6.9\t2.33\t패배\t2017년 5월 2일 오후 7시 38분\n",
      "158\t카사딘\t50\t5.7\t0.60\t패배\t2017년 5월 2일 오후 6시 54분\n",
      "159\t카사딘\t35\t5.2\t0.88\t패배\t2017년 5월 2일 오후 6시 24분\n",
      "160\t잭스\t42\t3.7\t1.67\t패배\t2017년 5월 2일 오후 5시 51분\n",
      "161\t오리아나\t27\t7.1\t0.60\t패배\t2017년 5월 2일 오후 5시 16분\n",
      "162\t카사딘\t55\t5.7\t2.40\t패배\t2017년 5월 2일 오후 4시 47분\n",
      "163\t카사딘\t73\t7.5\t3.67\t패배\t2017년 5월 2일 오후 3시 12분\n",
      "164\t카사딘\t39\t7.3\t2.20\t패배\t2017년 5월 1일 오후 11시 59분\n",
      "165\t카사딘\t32\t7.1\t1.40\t패배\t2017년 5월 1일 오후 11시 09분\n"
     ]
    }
   ],
   "source": [
    "import csv\n",
    "f = open(path + '/solo_rank_games.csv', 'r')\n",
    "c = csv.reader(f)\n",
    "for row in c:\n",
    "    print(row[0])\n"
   ]
  },
  {
   "cell_type": "code",
   "execution_count": 45,
   "metadata": {
    "collapsed": false
   },
   "outputs": [
    {
     "data": {
      "text/plain": [
       "'P5-0LP'"
      ]
     },
     "execution_count": 45,
     "metadata": {},
     "output_type": "execute_result"
    }
   ],
   "source": [
    "t.text.replace('\\n', '-')"
   ]
  },
  {
   "cell_type": "code",
   "execution_count": 39,
   "metadata": {
    "collapsed": false
   },
   "outputs": [],
   "source": [
    "tiers = []\n",
    "for p in tg_xpaths:\n",
    "    t = browser.find_element_by_xpath(p)\n",
    "    tiers.append(t.text)\n",
    "    \n",
    "tier_graph = pd.DataFrame({\n",
    "    'month': months,\n",
    "    'tier': tiers\n",
    "})\n",
    "\n",
    "tier_graph.to_csv(path + '/tier.csv', sep='\\t', encoding='utf-8', header=False)"
   ]
  },
  {
   "cell_type": "code",
   "execution_count": null,
   "metadata": {
    "collapsed": true
   },
   "outputs": [],
   "source": []
  },
  {
   "cell_type": "code",
   "execution_count": null,
   "metadata": {
    "collapsed": true
   },
   "outputs": [],
   "source": []
  },
  {
   "cell_type": "code",
   "execution_count": null,
   "metadata": {
    "collapsed": true
   },
   "outputs": [],
   "source": []
  },
  {
   "cell_type": "markdown",
   "metadata": {},
   "source": [
    "<h1>look here</h1>"
   ]
  },
  {
   "cell_type": "code",
   "execution_count": 2,
   "metadata": {
    "collapsed": false
   },
   "outputs": [
    {
     "ename": "FileNotFoundError",
     "evalue": "[Errno 2] No such file or directory: '/Users/minki/Development/boostdetect/data/p5_lp0_r_test'",
     "output_type": "error",
     "traceback": [
      "\u001b[0;31m---------------------------------------------------------------------------\u001b[0m",
      "\u001b[0;31mFileNotFoundError\u001b[0m                         Traceback (most recent call last)",
      "\u001b[0;32m<ipython-input-2-f0e0cdb27788>\u001b[0m in \u001b[0;36m<module>\u001b[0;34m()\u001b[0m\n\u001b[1;32m      4\u001b[0m \u001b[0;31m# /Users/minki/Development/boostdetect/data\u001b[0m\u001b[0;34m\u001b[0m\u001b[0;34m\u001b[0m\u001b[0m\n\u001b[1;32m      5\u001b[0m \u001b[0;32mtry\u001b[0m\u001b[0;34m:\u001b[0m\u001b[0;34m\u001b[0m\u001b[0m\n\u001b[0;32m----> 6\u001b[0;31m     \u001b[0mos\u001b[0m\u001b[0;34m.\u001b[0m\u001b[0mmkdir\u001b[0m\u001b[0;34m(\u001b[0m\u001b[0mwrite\u001b[0m\u001b[0;34m)\u001b[0m\u001b[0;34m\u001b[0m\u001b[0m\n\u001b[0m\u001b[1;32m      7\u001b[0m \u001b[0;32mexcept\u001b[0m \u001b[0mFileExistsError\u001b[0m\u001b[0;34m:\u001b[0m\u001b[0;34m\u001b[0m\u001b[0m\n\u001b[1;32m      8\u001b[0m     \u001b[0;32mpass\u001b[0m\u001b[0;34m\u001b[0m\u001b[0m\n",
      "\u001b[0;31mFileNotFoundError\u001b[0m: [Errno 2] No such file or directory: '/Users/minki/Development/boostdetect/data/p5_lp0_r_test'"
     ]
    }
   ],
   "source": [
    "read = '/Users/minki/Development/boostdetect/data/p5_lp0_r_test.txt'\n",
    "write = '/Users/minki/Development/boostdetect/data/p5_lp0_r_test'\n",
    "\n",
    "# /Users/minki/Development/boostdetect/data\n",
    "try:\n",
    "    os.mkdir(write)\n",
    "except FileExistsError:\n",
    "    pass\n",
    "\n",
    "# read = open(read, \"r\")\n",
    "# summoners = read.readlines()\n",
    "\n",
    "cpu_num = multiprocessing.cpu_count()"
   ]
  },
  {
   "cell_type": "code",
   "execution_count": 3,
   "metadata": {
    "collapsed": false
   },
   "outputs": [
    {
     "ename": "NameError",
     "evalue": "name 'cpu_num' is not defined",
     "output_type": "error",
     "traceback": [
      "\u001b[0;31m---------------------------------------------------------------------------\u001b[0m",
      "\u001b[0;31mNameError\u001b[0m                                 Traceback (most recent call last)",
      "\u001b[0;32m<ipython-input-3-cbe5769743ef>\u001b[0m in \u001b[0;36m<module>\u001b[0;34m()\u001b[0m\n\u001b[0;32m----> 1\u001b[0;31m \u001b[0;32mdef\u001b[0m \u001b[0mget_summoner_info\u001b[0m\u001b[0;34m(\u001b[0m\u001b[0mread\u001b[0m\u001b[0;34m=\u001b[0m\u001b[0mread\u001b[0m\u001b[0;34m,\u001b[0m \u001b[0mwrite\u001b[0m\u001b[0;34m=\u001b[0m\u001b[0mwrite\u001b[0m\u001b[0;34m,\u001b[0m \u001b[0mcore_num\u001b[0m\u001b[0;34m=\u001b[0m\u001b[0mcpu_num\u001b[0m\u001b[0;34m,\u001b[0m \u001b[0mcore\u001b[0m\u001b[0;34m=\u001b[0m\u001b[0;36m0\u001b[0m\u001b[0;34m)\u001b[0m\u001b[0;34m:\u001b[0m\u001b[0;34m\u001b[0m\u001b[0m\n\u001b[0m\u001b[1;32m      2\u001b[0m     \u001b[0mread\u001b[0m\u001b[0;34m=\u001b[0m \u001b[0mopen\u001b[0m\u001b[0;34m(\u001b[0m\u001b[0mread\u001b[0m\u001b[0;34m,\u001b[0m \u001b[0;34m\"r\"\u001b[0m\u001b[0;34m)\u001b[0m\u001b[0;34m\u001b[0m\u001b[0m\n\u001b[1;32m      3\u001b[0m     \u001b[0msummoners\u001b[0m \u001b[0;34m=\u001b[0m \u001b[0mread\u001b[0m\u001b[0;34m.\u001b[0m\u001b[0mreadlines\u001b[0m\u001b[0;34m(\u001b[0m\u001b[0;34m)\u001b[0m\u001b[0;34m\u001b[0m\u001b[0m\n\u001b[1;32m      4\u001b[0m \u001b[0;34m\u001b[0m\u001b[0m\n\u001b[1;32m      5\u001b[0m     \u001b[0mnum_summoners\u001b[0m \u001b[0;34m=\u001b[0m \u001b[0mlen\u001b[0m\u001b[0;34m(\u001b[0m\u001b[0msummoners\u001b[0m\u001b[0;34m)\u001b[0m\u001b[0;34m\u001b[0m\u001b[0m\n",
      "\u001b[0;31mNameError\u001b[0m: name 'cpu_num' is not defined"
     ]
    }
   ],
   "source": [
    "def get_summoner_info(read=read, write=write, core_num=cpu_num, core=0):\n",
    "    read= open(read, \"r\")\n",
    "    summoners = read.readlines()\n",
    "    \n",
    "    num_summoners = len(summoners)\n",
    "    \n",
    "    share = num_summoners // core_num + 1  \n",
    "    cut = []\n",
    "    for i in range(core_num):\n",
    "        cut.append(share * i)\n",
    "    \n",
    "    cut.append(num_summoners)\n",
    "    \n",
    "    start = cut[core]\n",
    "    end = cut[core + 1]\n",
    "\n",
    "        \n",
    "    ###    \n",
    "    for s in tqdm(summoners[start:end]):\n",
    "    #     s = summoners[1]\n",
    "        s_id = s[:-1]\n",
    "        s = str(s[:-1].encode('utf-8'))\n",
    "        s = s.replace('\\\\x', '%')[2:-1]\n",
    "        summoner = s.replace(' ','')\n",
    "\n",
    "        browser = webdriver.Chrome('/Users/minki/Development/boostdetect/chromedriver')\n",
    "        url = 'https://www.op.gg/summoner/userName=' + summoner\n",
    "\n",
    "        # /Users/minki/Development/boostdetect/data\n",
    "        path = write + '/' + s_id\n",
    "        try:\n",
    "            os.mkdir(write + '/' + s_id)\n",
    "        except FileExistsError:\n",
    "            pass\n",
    "\n",
    "        browser.get(url)\n",
    "        sleep(5)\n",
    "\n",
    "        \n",
    "        try: \n",
    "            #########\n",
    "\n",
    "            # Get tier_graph\n",
    "            # try:\n",
    "            tier_graph_button = browser.find_element_by_xpath(\"/html/body/div[2]/div[2]/div/div[4]/div/div[1]/div[3]/div[2]/button[3]\")\n",
    "            tier_graph_button.click()\n",
    "            sleep(5)\n",
    "\n",
    "            month_button = browser.find_element_by_xpath('//*[@id=\"ExtraView\"]/div/div[2]/ul/li[3]/a')\n",
    "            month_button.click()\n",
    "            sleep(5)\n",
    "\n",
    "            months_2016 = ['2016.' + str(i) for i in range(6,13)]\n",
    "            months_2017 = ['2017.' + str(i) for i in range(1,6)]\n",
    "            months = months_2016 + months_2017\n",
    "\n",
    "            tg_xpaths = ['//*[@id=\"highcharts-12\"]/div/div[' + str(i) +']/span/div' for i in range(1, 13)]\n",
    "            tiers = []\n",
    "            for p in tg_xpaths:\n",
    "                t = browser.find_element_by_xpath(p)\n",
    "                tiers.append(t.text.replace('\\n', '-'))\n",
    "\n",
    "            tier_graph = pd.DataFrame({\n",
    "                'month': months,\n",
    "                'tier': tiers\n",
    "            })\n",
    "\n",
    "            tier_graph.to_csv(path + '/tier.csv', sep='\\t', encoding='utf-8', header=True)\n",
    "\n",
    "\n",
    "            ############\n",
    "\n",
    "            # Get Solo-Rank Game info\n",
    "            solo_rank_button = browser.find_element_by_xpath('//*[@id=\"SummonerLayoutContent\"]/div[1]/div[2]/div/div[1]/div/ul/li[2]/a')\n",
    "            solo_rank_button.click()\n",
    "            sleep(5)\n",
    "\n",
    "            has_more = True\n",
    "            more_i = 3\n",
    "            n = 4\n",
    "            while(has_more):\n",
    "                more_xpath = '//*[@id=\"SummonerLayoutContent\"]/div[1]/div[2]/div/div[2]/div[' + str(i) + ']/a'\n",
    "                more_i += 1\n",
    "                n -= 1\n",
    "                try:\n",
    "                    more_button = browser.find_element_by_xpath(more_xpath)\n",
    "                except NoSuchElementException:\n",
    "                    has_more = False\n",
    "                    continue\n",
    "                except WebDriverException:\n",
    "                    pass\n",
    "\n",
    "                #TODO: for test case \n",
    "                if n == 0:\n",
    "                    has_more = False\n",
    "\n",
    "                more_button.click()\n",
    "                sleep(5)\n",
    "\n",
    "            sleep(5)\n",
    "            solo_rank_records = browser.find_elements_by_class_name(\"GameItemWrap\")\n",
    "            # solo_rank_records[2].get_attribute('innerHTML')\n",
    "\n",
    "            num_game = len(solo_rank_records)\n",
    "\n",
    "            timestamp = []\n",
    "            result = []\n",
    "            champion = []\n",
    "            kda = []\n",
    "            cs_per_min = []\n",
    "            ck_rate= []\n",
    "\n",
    "            for g in range(0, num_game):\n",
    "                info = solo_rank_records[g].get_attribute('innerHTML')\n",
    "\n",
    "                try: \n",
    "                    rs = re.findall(r'\"GameResult\">\\n\\t\\t\\t\\t\\t\\t\\t\\t\\t\\t\\t(\\w+)\\t\\t', info)[0]\n",
    "                    if rs == '다시하기':\n",
    "                        continue\n",
    "\n",
    "                    ts = re.findall(r'\"60\" title=\"(.*)\">', info)[0]\n",
    "                    ch = re.findall(r'Image\" alt=\"(.*)\">', info)[0]\n",
    "                    kd_1 = re.findall(r'KDARatio \">(.*)</span>\\n\\t\\t\\t\\t\\t평점', info)[0]\n",
    "                    if kd_1 != 'Perfect':\n",
    "                        kd = kd_1[:-2]\n",
    "                    cs_1 = re.findall(r'tip __tipped__\">(.*)</span> CS', info)[0]\n",
    "                    cs = re.findall(r' (.*)', cs_1)[0][1:-1]\n",
    "                    ck = re.findall(r'킬관여 (.*)%\\n\\t\\t', info)[0]\n",
    "\n",
    "                    timestamp.append(ts)\n",
    "                    result.append(rs)\n",
    "                    champion.append(ch)\n",
    "                    kda.append(kd)\n",
    "                    cs_per_min.append(cs)\n",
    "                    ck_rate.append(ck)\n",
    "\n",
    "                except IndexError:\n",
    "                    pass\n",
    "\n",
    "\n",
    "            solo_rank_games = pd.DataFrame({\n",
    "                'timestamp': timestamp,\n",
    "                'result': result,\n",
    "                'champion': champion,\n",
    "                'kda': kda,\n",
    "                'cs_per_min': cs_per_min,\n",
    "                'ck_rate': ck_rate\n",
    "            })\n",
    "\n",
    "            solo_rank_games.to_csv(path + '/solo_rank_games.csv', sep='\\t', encoding='utf-8', header=False)\n",
    "\n",
    "        \n",
    "\n",
    "        ###TODO Get Champions info\n",
    "\n",
    "        ###\n",
    "        except NoSuchElementException:\n",
    "            pass\n",
    "        \n",
    "        \n",
    "        browser.close()\n"
   ]
  },
  {
   "cell_type": "code",
   "execution_count": 270,
   "metadata": {
    "collapsed": true
   },
   "outputs": [],
   "source": [
    "def get_summoner_info_tot(read=read, write=write, core_num=cpu_num):\n",
    "    if core_num > multiprocessing.cpu_count():\n",
    "        print('lack CPUs')\n",
    "        return\n",
    "    # multi-processing\n",
    "    procs = []\n",
    "    for i in range(core_num):\n",
    "        procs.append(Process(target=get_summoner_info, args=(read, write, core_num, i)))\n",
    "    \n",
    "    for p in procs:\n",
    "        p.start()\n",
    "        \n",
    "    for p in procs:\n",
    "        p.join()"
   ]
  },
  {
   "cell_type": "code",
   "execution_count": null,
   "metadata": {
    "collapsed": false
   },
   "outputs": [
    {
     "name": "stderr",
     "output_type": "stream",
     "text": [
      "  4%|▍         | 1/23 [01:20<29:28, 80.40s/it]Process Process-9:\n",
      "Traceback (most recent call last):\n",
      "  File \"/Users/minki/anaconda3/lib/python3.6/multiprocessing/process.py\", line 249, in _bootstrap\n",
      "    self.run()\n",
      "  File \"/Users/minki/anaconda3/lib/python3.6/multiprocessing/process.py\", line 93, in run\n",
      "    self._target(*self._args, **self._kwargs)\n",
      "  File \"<ipython-input-269-cbe5769743ef>\", line 133, in get_summoner_info\n",
      "    kda.append(kd)\n",
      "UnboundLocalError: local variable 'kd' referenced before assignment\n",
      " 35%|███▍      | 8/23 [07:17<14:03, 56.22s/it]"
     ]
    }
   ],
   "source": [
    "get_summoner_info_tot(core_num=2)\n",
    "\n"
   ]
  },
  {
   "cell_type": "code",
   "execution_count": null,
   "metadata": {
    "collapsed": true
   },
   "outputs": [],
   "source": []
  },
  {
   "cell_type": "code",
   "execution_count": 266,
   "metadata": {
    "collapsed": false
   },
   "outputs": [
    {
     "data": {
      "text/plain": [
       "48"
      ]
     },
     "execution_count": 266,
     "metadata": {},
     "output_type": "execute_result"
    }
   ],
   "source": [
    "len(summoners)"
   ]
  },
  {
   "cell_type": "code",
   "execution_count": null,
   "metadata": {
    "collapsed": true
   },
   "outputs": [],
   "source": []
  },
  {
   "cell_type": "markdown",
   "metadata": {},
   "source": [
    "<h1> test </h1>"
   ]
  },
  {
   "cell_type": "code",
   "execution_count": 73,
   "metadata": {
    "collapsed": false
   },
   "outputs": [
    {
     "data": {
      "text/plain": [
       "'https://www.op.gg/summoner/userName=%ed%8d%bc%ed%8e%99%ed%8a%b8%ed%82%b4'"
      ]
     },
     "execution_count": 73,
     "metadata": {},
     "output_type": "execute_result"
    }
   ],
   "source": [
    "# test\n",
    "\n",
    "s = summoners[1]\n",
    "s_id = s[:-1]\n",
    "s = str(s[:-1].encode('utf-8'))\n",
    "s = s.replace('\\\\x', '%')[2:-1]\n",
    "summoner = s.replace(' ','')\n",
    "\n",
    "browser = webdriver.Chrome('/Users/minki/Development/boostdetect/chromedriver')\n",
    "url = 'https://www.op.gg/summoner/userName=' + summoner\n",
    "\n",
    "# /Users/minki/Development/boostdetect/data\n",
    "path = write + '/' + s_id\n",
    "try:\n",
    "    os.mkdir(write + '/' + s_id)\n",
    "except FileExistsError:\n",
    "    pass\n",
    "\n",
    "browser.get(url)\n",
    "sleep(5)\n",
    "\n",
    "#########\n",
    "\n",
    "# # Get tier_graph\n",
    "# # try:\n",
    "# tier_graph_button = browser.find_element_by_xpath(\"/html/body/div[2]/div[2]/div/div[4]/div/div[1]/div[3]/div[2]/button[3]\")\n",
    "# tier_graph_button.click()\n",
    "# sleep(5)\n",
    "\n",
    "# month_button = browser.find_element_by_xpath('//*[@id=\"ExtraView\"]/div/div[2]/ul/li[3]/a')\n",
    "# month_button.click()\n",
    "# sleep(5)\n",
    "\n",
    "# months_2016 = ['2016.' + str(i) for i in range(6,13)]\n",
    "# months_2017 = ['2017.' + str(i) for i in range(1,6)]\n",
    "# months = months_2016 + months_2017\n",
    "\n",
    "# tg_xpaths = ['//*[@id=\"highcharts-12\"]/div/div[' + str(i) +']/span/div' for i in range(1, 13)]\n",
    "# tiers = []\n",
    "# for p in tg_xpaths:\n",
    "#     t = browser.find_element_by_xpath(p)\n",
    "#     tiers.append(t.text.replace('\\n', '-'))\n",
    "    \n",
    "# tier_graph = pd.DataFrame({\n",
    "#     'month': months,\n",
    "#     'tier': tiers\n",
    "# })\n",
    "\n",
    "# tier_graph.to_csv(path + '/tier.csv', sep='\\t', encoding='utf-8', header=True)\n",
    "\n",
    "\n",
    "############\n",
    "\n",
    "# Get Solo-Rank Game info\n",
    "solo_rank_button = browser.find_element_by_xpath('//*[@id=\"SummonerLayoutContent\"]/div[1]/div[2]/div/div[1]/div/ul/li[2]/a')\n",
    "solo_rank_button.click()\n",
    "sleep(5)\n",
    "\n",
    "has_more = True\n",
    "more_i = 3\n",
    "n = 4\n",
    "while(has_more):\n",
    "    more_xpath = '//*[@id=\"SummonerLayoutContent\"]/div[1]/div[2]/div/div[2]/div[' + str(i) + ']/a'\n",
    "    more_i += 1\n",
    "    n -= 1\n",
    "    try:\n",
    "        more_button = browser.find_element_by_xpath(more_xpath)\n",
    "    except NoSuchElementException:\n",
    "        has_more = False\n",
    "        continue\n",
    "    except WebDriverException:\n",
    "        pass\n",
    "    \n",
    "    #TODO: for test case \n",
    "    if n == 0:\n",
    "        has_more = False\n",
    "            \n",
    "    more_button.click()\n",
    "    sleep(5)\n",
    "    \n",
    "sleep(5)\n",
    "solo_rank_records = browser.find_elements_by_class_name(\"GameItemWrap\")\n",
    "# solo_rank_records[2].get_attribute('innerHTML')\n",
    "\n",
    "num_game = len(solo_rank_records)\n",
    "\n",
    "timestamp = []\n",
    "result = []\n",
    "champion = []\n",
    "kda = []\n",
    "cs_per_min = []\n",
    "ck_rate= []\n",
    "\n",
    "for g in range(0, num_game):\n",
    "    info = solo_rank_records[g].get_attribute('innerHTML')\n",
    "    \n",
    "    try: \n",
    "        rs = re.findall(r'\"GameResult\">\\n\\t\\t\\t\\t\\t\\t\\t\\t\\t\\t\\t(\\w+)\\t\\t', info)[0]\n",
    "        if rs == '다시하기':\n",
    "            continue\n",
    "\n",
    "        ts = re.findall(r'\"60\" title=\"(.*)\">', info)[0]\n",
    "        ch = re.findall(r'Image\" alt=\"(.*)\">', info)[0]\n",
    "        kd_1 = re.findall(r'KDARatio \">(.*)</span>\\n\\t\\t\\t\\t\\t평점', info)[0]\n",
    "        if kd_1 != 'Perfect':\n",
    "            kd = kd_1[:-2]\n",
    "        cs_1 = re.findall(r'tip __tipped__\">(.*)</span> CS', info)[0]\n",
    "        cs = re.findall(r' (.*)', cs_1)[0][1:-1]\n",
    "        ck = re.findall(r'킬관여 (.*)%\\n\\t\\t', info)[0]\n",
    "    \n",
    "        timestamp.append(ts)\n",
    "        result.append(rs)\n",
    "        champion.append(ch)\n",
    "        kda.append(kd)\n",
    "        cs_per_min.append(cs)\n",
    "        ck_rate.append(ck)\n",
    "    \n",
    "    except IndexError:\n",
    "        pass\n",
    "    \n",
    "     \n",
    "solo_rank_games = pd.DataFrame({\n",
    "    'timestamp': timestamp,\n",
    "    'result': result,\n",
    "    'champion': champion,\n",
    "    'kda': kda,\n",
    "    'cs_per_min': cs_per_min,\n",
    "    'ck_rate': ck_rate\n",
    "})\n",
    "\n",
    "solo_rank_games.to_csv(path + '/solo_rank_games.csv', sep='\\t', encoding='utf-8', header=False)\n",
    "\n",
    "\n",
    "\n",
    "###TODO Get Champions info\n",
    "\n",
    "###\n",
    "\n",
    "# browser.close()\n"
   ]
  },
  {
   "cell_type": "code",
   "execution_count": null,
   "metadata": {
    "collapsed": true
   },
   "outputs": [],
   "source": []
  },
  {
   "cell_type": "code",
   "execution_count": null,
   "metadata": {
    "collapsed": true
   },
   "outputs": [],
   "source": []
  },
  {
   "cell_type": "code",
   "execution_count": null,
   "metadata": {
    "collapsed": true
   },
   "outputs": [],
   "source": []
  },
  {
   "cell_type": "code",
   "execution_count": 232,
   "metadata": {
    "collapsed": false
   },
   "outputs": [],
   "source": [
    "solo_rank_records = browser.find_elements_by_class_name(\"GameItemWrap\")\n",
    "# info = solo_rank_records[42].get_attribute('innerHTML')\n",
    "# info"
   ]
  },
  {
   "cell_type": "code",
   "execution_count": 248,
   "metadata": {
    "collapsed": false
   },
   "outputs": [],
   "source": [
    "solo_rank_records = browser.find_elements_by_class_name(\"GameItemWrap\")\n",
    "# solo_rank_records[2].get_attribute('innerHTML')\n",
    "\n",
    "num_game = len(solo_rank_records)\n",
    "\n",
    "timestamp = []\n",
    "result = []\n",
    "champion = []\n",
    "kda = []\n",
    "cs_per_min = []\n",
    "ck_rate= []\n",
    "\n",
    "for g in range(0, num_game):\n",
    "    info = solo_rank_records[g].get_attribute('innerHTML')\n",
    "    \n",
    "    try: \n",
    "        rs = re.findall(r'\"GameResult\">\\n\\t\\t\\t\\t\\t\\t\\t\\t\\t\\t\\t(\\w+)\\t\\t', info)[0]\n",
    "        if rs == '다시하기':\n",
    "            continue\n",
    "\n",
    "        ts = re.findall(r'\"60\" title=\"(.*)\">', info)[0]\n",
    "        ch = re.findall(r'Image\" alt=\"(.*)\">', info)[0]\n",
    "        kd_1 = re.findall(r'KDARatio \">(.*)</span>\\n\\t\\t\\t\\t\\t평점', info)[0]\n",
    "        if kd_1 != 'Perfect':\n",
    "            kd = kd_1[:-2]\n",
    "        cs_1 = re.findall(r'tip __tipped__\">(.*)</span> CS', info)[0]\n",
    "        cs = re.findall(r' (.*)', cs_1)[0][1:-1]\n",
    "        ck = re.findall(r'킬관여 (.*)%\\n\\t\\t', info)[0]\n",
    "    \n",
    "        timestamp.append(ts)\n",
    "        result.append(rs)\n",
    "        champion.append(ch)\n",
    "        kda.append(kd)\n",
    "        cs_per_min.append(cs)\n",
    "        ck_rate.append(ck)\n",
    "    \n",
    "    except IndexError:\n",
    "        pass\n",
    "    \n",
    "     \n",
    "solo_rank_games = pd.DataFrame({\n",
    "    'timestamp': timestamp,\n",
    "    'result': result,\n",
    "    'champion': champion,\n",
    "    'kda': kda,\n",
    "    'cs_per_min': cs_per_min,\n",
    "    'ck_rate': ck_rate\n",
    "})\n",
    "\n",
    "solo_rank_games.to_csv(path + '/solo_rank_games.csv', sep='\\t', encoding='utf-8', header=False)"
   ]
  }
 ],
 "metadata": {
  "kernelspec": {
   "display_name": "Python 3",
   "language": "python",
   "name": "python3"
  },
  "language_info": {
   "codemirror_mode": {
    "name": "ipython",
    "version": 3
   },
   "file_extension": ".py",
   "mimetype": "text/x-python",
   "name": "python",
   "nbconvert_exporter": "python",
   "pygments_lexer": "ipython3",
   "version": "3.6.0"
  }
 },
 "nbformat": 4,
 "nbformat_minor": 2
}
