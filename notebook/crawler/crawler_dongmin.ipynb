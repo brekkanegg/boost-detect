{
 "cells": [
  {
   "cell_type": "code",
   "execution_count": 1,
   "metadata": {
    "collapsed": true
   },
   "outputs": [],
   "source": [
    "# coding: utf-8\n",
    "\n",
    "# # Parsing Urls\n",
    "\n",
    "from html.parser import HTMLParser\n",
    "from urllib.request import urlopen\n",
    "from urllib import parse\n",
    "from bs4 import BeautifulSoup\n",
    "from tqdm import *\n",
    "from time import *"
   ]
  },
  {
   "cell_type": "code",
   "execution_count": 2,
   "metadata": {
    "collapsed": false
   },
   "outputs": [
    {
     "name": "stderr",
     "output_type": "stream",
     "text": [
      "Widget Javascript not detected.  It may not be installed properly. Did you enable the widgetsnbextension? If not, then run \"jupyter nbextension enable --py --sys-prefix widgetsnbextension\"\n"
     ]
    },
    {
     "name": "stdout",
     "output_type": "stream",
     "text": [
      "\n"
     ]
    },
    {
     "ename": "FeatureNotFound",
     "evalue": "Couldn't find a tree builder with the features you requested: lxml. Do you need to install a parser library?",
     "output_type": "error",
     "traceback": [
      "\u001b[0;31m---------------------------------------------------------------------------\u001b[0m",
      "\u001b[0;31mFeatureNotFound\u001b[0m                           Traceback (most recent call last)",
      "\u001b[0;32m<ipython-input-2-fb93ae863c9d>\u001b[0m in \u001b[0;36m<module>\u001b[0;34m()\u001b[0m\n\u001b[1;32m     11\u001b[0m \u001b[0;34m\u001b[0m\u001b[0m\n\u001b[1;32m     12\u001b[0m         \u001b[0mnews_list\u001b[0m \u001b[0;34m=\u001b[0m \u001b[0murlopen\u001b[0m\u001b[0;34m(\u001b[0m\u001b[0;34m'http://bigstory.ap.org/latest?page='\u001b[0m\u001b[0;34m+\u001b[0m\u001b[0mstr\u001b[0m\u001b[0;34m(\u001b[0m\u001b[0mpage\u001b[0m\u001b[0;34m)\u001b[0m\u001b[0;34m)\u001b[0m\u001b[0;34m.\u001b[0m\u001b[0mread\u001b[0m\u001b[0;34m(\u001b[0m\u001b[0;34m)\u001b[0m\u001b[0;34m\u001b[0m\u001b[0m\n\u001b[0;32m---> 13\u001b[0;31m     \u001b[0msoup\u001b[0m \u001b[0;34m=\u001b[0m \u001b[0mBeautifulSoup\u001b[0m\u001b[0;34m(\u001b[0m\u001b[0mnews_list\u001b[0m\u001b[0;34m,\u001b[0m \u001b[0;34m\"lxml\"\u001b[0m\u001b[0;34m)\u001b[0m\u001b[0;34m\u001b[0m\u001b[0m\n\u001b[0m\u001b[1;32m     14\u001b[0m \u001b[0;34m\u001b[0m\u001b[0m\n\u001b[1;32m     15\u001b[0m     \u001b[0;32mfor\u001b[0m \u001b[0mlink\u001b[0m \u001b[0;32min\u001b[0m \u001b[0msoup\u001b[0m\u001b[0;34m.\u001b[0m\u001b[0mfind_all\u001b[0m\u001b[0;34m(\u001b[0m\u001b[0;34m'a'\u001b[0m\u001b[0;34m)\u001b[0m\u001b[0;34m:\u001b[0m\u001b[0;34m\u001b[0m\u001b[0m\n",
      "\u001b[0;32m/Users/minki.chung/Library/Python/3.5/lib/python/site-packages/bs4/__init__.py\u001b[0m in \u001b[0;36m__init__\u001b[0;34m(self, markup, features, builder, parse_only, from_encoding, exclude_encodings, **kwargs)\u001b[0m\n\u001b[1;32m    163\u001b[0m                     \u001b[0;34m\"Couldn't find a tree builder with the features you \"\u001b[0m\u001b[0;34m\u001b[0m\u001b[0m\n\u001b[1;32m    164\u001b[0m                     \u001b[0;34m\"requested: %s. Do you need to install a parser library?\"\u001b[0m\u001b[0;34m\u001b[0m\u001b[0m\n\u001b[0;32m--> 165\u001b[0;31m                     % \",\".join(features))\n\u001b[0m\u001b[1;32m    166\u001b[0m             \u001b[0mbuilder\u001b[0m \u001b[0;34m=\u001b[0m \u001b[0mbuilder_class\u001b[0m\u001b[0;34m(\u001b[0m\u001b[0;34m)\u001b[0m\u001b[0;34m\u001b[0m\u001b[0m\n\u001b[1;32m    167\u001b[0m             if not (original_features == builder.NAME or\n",
      "\u001b[0;31mFeatureNotFound\u001b[0m: Couldn't find a tree builder with the features you requested: lxml. Do you need to install a parser library?"
     ]
    }
   ],
   "source": [
    "# ## Crwaling urls in op.gg\n",
    "\n",
    "# In[3]:\n",
    "\n",
    "news_urls = []\n",
    "for page in tnrange(10):\n",
    "    if page == 0: \n",
    "        news_list = urlopen('http://bigstory.ap.org/latest').read()\n",
    "    else:\n",
    "        \n",
    "        \n",
    "        news_list = urlopen('http://bigstory.ap.org/latest?page='+str(page)).read()\n",
    "    soup = BeautifulSoup(news_list, \"lxml\")\n",
    "\n",
    "    for link in soup.find_all('a'):\n",
    "        url = link.get('href')\n",
    "        try:\n",
    "            if \"/article\" in url:\n",
    "                news_urls = news_urls + ['http://bigstory.ap.org'+url]\n",
    "        except:\n",
    "            pass"
   ]
  },
  {
   "cell_type": "code",
   "execution_count": null,
   "metadata": {
    "collapsed": true
   },
   "outputs": [],
   "source": [
    "# In[12]:\n",
    "\n",
    "news_list = urlopen('https://hashcode.co.kr/questions/3452/%ED%8C%8C%EC%9D%B4%EC%8D%AC-%EC%9E%90%EB%B0%94%EC%8A%A4%ED%81%AC%EB%A6%BD%ED%8A%B8-%EC%8B%A4%ED%96%89%ED%9B%84-%EA%B0%80%EC%A0%B8%EC%99%80%EB%8F%84-div-%EB%82%B4%EC%97%90-%EC%9A%94%EC%86%8C%EA%B0%80-%EC%97%86%EB%84%A4%EC%9A%94-%E3%85%A0%E3%85%A0').read()\n",
    "soup = BeautifulSoup(news_list, \"lxml\")\n",
    "url = soup.findAll('div', {class:\"content\"})\n",
    "url\n",
    "\n",
    "\n",
    "# In[8]:\n",
    "\n",
    "print(url)\n",
    "\n",
    "\n",
    "# In[47]:\n",
    "\n",
    "import csv\n",
    "\n",
    "with open('ap_bigstory_news_urls.csv', 'w') as urls_csv:\n",
    "    wr = csv.writer(urls_csv, delimiter=',',quoting=csv.QUOTE_ALL)\n",
    "    wr.writerow(news_urls)\n",
    "\n",
    "\n",
    "# In[ ]:\n",
    "\n",
    "with open('ap_bigstory_news_urls.csv', 'rb') as f:\n",
    "    reader = csv.reader(f)\n",
    "    news_urls = list(reader)\n",
    "\n",
    "\n",
    "# In[51]:\n",
    "\n",
    "news_urls =list(set(news_urls))\n",
    "\n",
    "\n",
    "# In[52]:\n",
    "\n",
    "len(news_urls)\n",
    "\n",
    "\n",
    "# ## Crawling News Text\n",
    "\n",
    "# In[112]:\n",
    "\n",
    "#with open('ap_bigstory_news_texts.csv', 'w') as texts_csv:\n",
    "    #wr = csv.writer(texts_csv, delimiter=',',quoting=csv.QUOTE_ALL)\n",
    "    #wr.writerow(news_texts)\n",
    "\n",
    "\n",
    "# In[125]:\n",
    "\n",
    "news_texts = []\n",
    "for url in tqdm_notebook(news_urls):\n",
    "    try:\n",
    "        news = urlopen(url).read()\n",
    "        soup = BeautifulSoup(news, \"lxml\")\n",
    "        news_text = soup.select('.field-item > p')[0].text\n",
    "        if \"Trump\" in news_text:\n",
    "            news_texts = news_texts + [news_text]\n",
    "    except Exception as e:\n",
    "        print(url, \" : \", e)\n",
    "        sleep(60)\n",
    "        \n",
    "# Don't split sentence at here, Just Use nltk Tokenizer \n",
    "#news_text = soup.select('.field-item > p')[0].text.split('</p>')\n",
    "#news_text[0].split('\\n')\n",
    "\n",
    "\n",
    "# ## Append News Texts to Existed csv File\n",
    "\n",
    "# In[126]:\n",
    "\n",
    "with open('ap_bigstory_news_texts.csv', 'a') as texts_csv:\n",
    "    wr = csv.writer(texts_csv, delimiter=',',quoting=csv.QUOTE_ALL)\n",
    "    wr.writerow(news_texts)\n",
    "\n",
    "\n",
    "# In[ ]:\n",
    "\n",
    "\n",
    "\n",
    "\n",
    "# In[ ]:"
   ]
  }
 ],
 "metadata": {
  "kernelspec": {
   "display_name": "Python 3",
   "language": "python",
   "name": "python3"
  },
  "language_info": {
   "codemirror_mode": {
    "name": "ipython",
    "version": 3
   },
   "file_extension": ".py",
   "mimetype": "text/x-python",
   "name": "python",
   "nbconvert_exporter": "python",
   "pygments_lexer": "ipython3",
   "version": "3.6.0"
  }
 },
 "nbformat": 4,
 "nbformat_minor": 1
}
